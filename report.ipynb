{
 "cells": [
  {
   "cell_type": "markdown",
   "metadata": {},
   "source": [
    "# Table of Contents\n",
    "\n",
    "\n",
    "1. [Introduction](#Introduction)\n",
    "2. [Stock](#Stock)\n",
    "    1. [Comparison](#Comparison)\n",
    "    2. [Dimension Reduction](#Dimension-Reduction-(PAA-&-SAX))\n",
    "3. [News](#News)\n",
    "    1. [WordCloud](#WordCloud)\n",
    "4. [Tweets](#Tweets)\n",
    "    1. [Sentiment](#Sentiment)\n"
   ]
  },
  {
   "cell_type": "markdown",
   "metadata": {},
   "source": [
    "# Introduction"
   ]
  },
  {
   "cell_type": "markdown",
   "metadata": {},
   "source": [
    "This project undertakes some of the challenges in the data mining process in order to get insight <br> from the data that had been collected from several resources as follow:\n",
    "* [Stocks](https://www.thestar.com.my/business/marketwatch/)\n",
    "* [News](https://www.thestar.com.my/business/marketwatch/)\n",
    "* [Tweets](https://twitter.com)\n",
    "\n",
    "The main obstacle and limitation of this project is the short data collection period which is from 2019-02-25 to 2019-03-29\n",
    "\n",
    "> The analysis goal is to understand the dramatic drop for the mentioned period of time for AirAsia company\n",
    "\n"
   ]
  },
  {
   "cell_type": "markdown",
   "metadata": {},
   "source": [
    "![Air Asia](./img/airasia.png)"
   ]
  },
  {
   "cell_type": "markdown",
   "metadata": {},
   "source": [
    "# Stock"
   ]
  },
  {
   "cell_type": "code",
   "execution_count": 1,
   "metadata": {},
   "outputs": [],
   "source": [
    "import pandas as pd\n",
    "import matplotlib \n",
    "import matplotlib.pyplot as plt"
   ]
  },
  {
   "cell_type": "code",
   "execution_count": 2,
   "metadata": {},
   "outputs": [],
   "source": [
    "stock = pd.read_csv('data/the_star_data.csv')"
   ]
  },
  {
   "cell_type": "code",
   "execution_count": 3,
   "metadata": {},
   "outputs": [
    {
     "data": {
      "text/html": [
       "<div>\n",
       "<style scoped>\n",
       "    .dataframe tbody tr th:only-of-type {\n",
       "        vertical-align: middle;\n",
       "    }\n",
       "\n",
       "    .dataframe tbody tr th {\n",
       "        vertical-align: top;\n",
       "    }\n",
       "\n",
       "    .dataframe thead th {\n",
       "        text-align: right;\n",
       "    }\n",
       "</style>\n",
       "<table border=\"1\" class=\"dataframe\">\n",
       "  <thead>\n",
       "    <tr style=\"text-align: right;\">\n",
       "      <th></th>\n",
       "      <th>ID</th>\n",
       "      <th>Datetime</th>\n",
       "      <th>CompanySymbol</th>\n",
       "      <th>OpenPrice</th>\n",
       "      <th>HighPrice</th>\n",
       "      <th>LowPrice</th>\n",
       "      <th>LastPrice</th>\n",
       "    </tr>\n",
       "  </thead>\n",
       "  <tbody>\n",
       "    <tr>\n",
       "      <th>0</th>\n",
       "      <td>207649</td>\n",
       "      <td>13 Mar 2019 - 7:13 PM</td>\n",
       "      <td>3A</td>\n",
       "      <td>0.85</td>\n",
       "      <td>0.855</td>\n",
       "      <td>0.845</td>\n",
       "      <td>0.850</td>\n",
       "    </tr>\n",
       "    <tr>\n",
       "      <th>1</th>\n",
       "      <td>207650</td>\n",
       "      <td>13 Mar 2019 - 7:13 PM</td>\n",
       "      <td>A50CHIN-C22</td>\n",
       "      <td>0.14</td>\n",
       "      <td>0.145</td>\n",
       "      <td>0.120</td>\n",
       "      <td>0.135</td>\n",
       "    </tr>\n",
       "  </tbody>\n",
       "</table>\n",
       "</div>"
      ],
      "text/plain": [
       "       ID               Datetime CompanySymbol  OpenPrice  HighPrice  \\\n",
       "0  207649  13 Mar 2019 - 7:13 PM            3A       0.85      0.855   \n",
       "1  207650  13 Mar 2019 - 7:13 PM   A50CHIN-C22       0.14      0.145   \n",
       "\n",
       "   LowPrice  LastPrice  \n",
       "0     0.845      0.850  \n",
       "1     0.120      0.135  "
      ]
     },
     "execution_count": 3,
     "metadata": {},
     "output_type": "execute_result"
    }
   ],
   "source": [
    "stock.head(2)"
   ]
  },
  {
   "cell_type": "code",
   "execution_count": 4,
   "metadata": {},
   "outputs": [],
   "source": [
    "# split the 'Datetime' column into separate 'Date' and 'Time' columns\n",
    "stock[['Date', 'Time']] = stock['Datetime'].str.split('-', expand=True)"
   ]
  },
  {
   "cell_type": "code",
   "execution_count": 5,
   "metadata": {},
   "outputs": [],
   "source": [
    "# transfer the 'Date' column into datetime format \n",
    "stock['Date'] = pd.to_datetime(stock['Date'])"
   ]
  },
  {
   "cell_type": "code",
   "execution_count": 6,
   "metadata": {},
   "outputs": [],
   "source": [
    "# selecting useful columns\n",
    "stock = stock[['Date', 'CompanySymbol', 'OpenPrice', 'HighPrice', 'LowPrice', 'LastPrice']]"
   ]
  },
  {
   "cell_type": "code",
   "execution_count": 7,
   "metadata": {},
   "outputs": [
    {
     "data": {
      "text/plain": [
       "Date             350406\n",
       "CompanySymbol    350406\n",
       "OpenPrice        350406\n",
       "HighPrice        350406\n",
       "LowPrice         350406\n",
       "LastPrice        350406\n",
       "dtype: int64"
      ]
     },
     "execution_count": 7,
     "metadata": {},
     "output_type": "execute_result"
    }
   ],
   "source": [
    "stock.count()"
   ]
  },
  {
   "cell_type": "code",
   "execution_count": 8,
   "metadata": {},
   "outputs": [],
   "source": [
    "# creating AirAsia and Airport dataframes\n",
    "airasia = stock[stock.CompanySymbol == 'AIRASIA']\n",
    "airport = stock[stock.CompanySymbol == 'AIRPORT'] "
   ]
  },
  {
   "cell_type": "code",
   "execution_count": 9,
   "metadata": {},
   "outputs": [],
   "source": [
    "# Dropping duplicate dates\n",
    "airasia = airasia.drop_duplicates(subset = 'Date')\n",
    "airport = airport.drop_duplicates(subset = 'Date')"
   ]
  },
  {
   "cell_type": "code",
   "execution_count": 10,
   "metadata": {},
   "outputs": [],
   "source": [
    "# set date as the index\n",
    "airasia = airasia.set_index('Date')\n",
    "airport = airport.set_index('Date')"
   ]
  },
  {
   "cell_type": "code",
   "execution_count": 11,
   "metadata": {},
   "outputs": [
    {
     "data": {
      "text/html": [
       "<div>\n",
       "<style scoped>\n",
       "    .dataframe tbody tr th:only-of-type {\n",
       "        vertical-align: middle;\n",
       "    }\n",
       "\n",
       "    .dataframe tbody tr th {\n",
       "        vertical-align: top;\n",
       "    }\n",
       "\n",
       "    .dataframe thead th {\n",
       "        text-align: right;\n",
       "    }\n",
       "</style>\n",
       "<table border=\"1\" class=\"dataframe\">\n",
       "  <thead>\n",
       "    <tr style=\"text-align: right;\">\n",
       "      <th></th>\n",
       "      <th>CompanySymbol</th>\n",
       "      <th>OpenPrice</th>\n",
       "      <th>HighPrice</th>\n",
       "      <th>LowPrice</th>\n",
       "      <th>LastPrice</th>\n",
       "    </tr>\n",
       "    <tr>\n",
       "      <th>Date</th>\n",
       "      <th></th>\n",
       "      <th></th>\n",
       "      <th></th>\n",
       "      <th></th>\n",
       "      <th></th>\n",
       "    </tr>\n",
       "  </thead>\n",
       "  <tbody>\n",
       "    <tr>\n",
       "      <th>2019-03-13</th>\n",
       "      <td>AIRASIA</td>\n",
       "      <td>2.77</td>\n",
       "      <td>2.83</td>\n",
       "      <td>2.74</td>\n",
       "      <td>2.79</td>\n",
       "    </tr>\n",
       "    <tr>\n",
       "      <th>2019-02-27</th>\n",
       "      <td>AIRASIA</td>\n",
       "      <td>3.12</td>\n",
       "      <td>3.12</td>\n",
       "      <td>3.00</td>\n",
       "      <td>3.04</td>\n",
       "    </tr>\n",
       "    <tr>\n",
       "      <th>2019-03-20</th>\n",
       "      <td>AIRASIA</td>\n",
       "      <td>2.80</td>\n",
       "      <td>2.81</td>\n",
       "      <td>2.77</td>\n",
       "      <td>2.79</td>\n",
       "    </tr>\n",
       "    <tr>\n",
       "      <th>2019-03-11</th>\n",
       "      <td>AIRASIA</td>\n",
       "      <td>2.76</td>\n",
       "      <td>2.79</td>\n",
       "      <td>2.75</td>\n",
       "      <td>2.77</td>\n",
       "    </tr>\n",
       "    <tr>\n",
       "      <th>2019-03-01</th>\n",
       "      <td>AIRASIA</td>\n",
       "      <td>2.77</td>\n",
       "      <td>2.79</td>\n",
       "      <td>2.69</td>\n",
       "      <td>2.74</td>\n",
       "    </tr>\n",
       "  </tbody>\n",
       "</table>\n",
       "</div>"
      ],
      "text/plain": [
       "           CompanySymbol  OpenPrice  HighPrice  LowPrice  LastPrice\n",
       "Date                                                               \n",
       "2019-03-13       AIRASIA       2.77       2.83      2.74       2.79\n",
       "2019-02-27       AIRASIA       3.12       3.12      3.00       3.04\n",
       "2019-03-20       AIRASIA       2.80       2.81      2.77       2.79\n",
       "2019-03-11       AIRASIA       2.76       2.79      2.75       2.77\n",
       "2019-03-01       AIRASIA       2.77       2.79      2.69       2.74"
      ]
     },
     "execution_count": 11,
     "metadata": {},
     "output_type": "execute_result"
    }
   ],
   "source": [
    "airasia.head()"
   ]
  },
  {
   "cell_type": "code",
   "execution_count": 12,
   "metadata": {},
   "outputs": [
    {
     "data": {
      "text/plain": [
       "array([2.79, 3.04, 2.77, 2.74, 3.13, 2.7 , 2.8 , 2.87, 2.66, 2.82, 2.78,\n",
       "       2.76, 3.06, 2.83, 2.71, 3.1 ])"
      ]
     },
     "execution_count": 12,
     "metadata": {},
     "output_type": "execute_result"
    }
   ],
   "source": [
    "airasia.LastPrice.unique()"
   ]
  },
  {
   "cell_type": "code",
   "execution_count": 13,
   "metadata": {},
   "outputs": [
    {
     "data": {
      "text/plain": [
       "2.819230769230769"
      ]
     },
     "execution_count": 13,
     "metadata": {},
     "output_type": "execute_result"
    }
   ],
   "source": [
    "airasia.LastPrice.mean()"
   ]
  },
  {
   "cell_type": "code",
   "execution_count": 14,
   "metadata": {},
   "outputs": [
    {
     "data": {
      "text/plain": [
       "0.12393298437213804"
      ]
     },
     "execution_count": 14,
     "metadata": {},
     "output_type": "execute_result"
    }
   ],
   "source": [
    "airasia.LastPrice.std()"
   ]
  },
  {
   "cell_type": "code",
   "execution_count": 15,
   "metadata": {},
   "outputs": [
    {
     "data": {
      "text/plain": [
       "<matplotlib.axes._subplots.AxesSubplot at 0x10de0c908>"
      ]
     },
     "execution_count": 15,
     "metadata": {},
     "output_type": "execute_result"
    },
    {
     "data": {
      "image/png": "[encoded data removed]",
      "text/plain": [
       "<Figure size 432x288 with 1 Axes>"
      ]
     },
     "metadata": {
      "needs_background": "light"
     },
     "output_type": "display_data"
    }
   ],
   "source": [
    "airasia.plot()"
   ]
  },
  {
   "cell_type": "code",
   "execution_count": 16,
   "metadata": {},
   "outputs": [
    {
     "data": {
      "text/plain": [
       "<matplotlib.axes._subplots.AxesSubplot at 0x116c48470>"
      ]
     },
     "execution_count": 16,
     "metadata": {},
     "output_type": "execute_result"
    },
    {
     "data": {
      "image/png": "[encoded data removed]",
      "text/plain": [
       "<Figure size 432x288 with 1 Axes>"
      ]
     },
     "metadata": {
      "needs_background": "light"
     },
     "output_type": "display_data"
    }
   ],
   "source": [
    "airasia.plot(y = 'LastPrice')"
   ]
  },
  {
   "cell_type": "code",
   "execution_count": 17,
   "metadata": {},
   "outputs": [
    {
     "data": {
      "text/plain": [
       "<matplotlib.axes._subplots.AxesSubplot at 0x116bdd9e8>"
      ]
     },
     "execution_count": 17,
     "metadata": {},
     "output_type": "execute_result"
    },
    {
     "data": {
      "image/png": "[encoded data removed]",
      "text/plain": [
       "<Figure size 432x288 with 1 Axes>"
      ]
     },
     "metadata": {
      "needs_background": "light"
     },
     "output_type": "display_data"
    }
   ],
   "source": [
    "airport.plot()"
   ]
  },
  {
   "cell_type": "code",
   "execution_count": 18,
   "metadata": {},
   "outputs": [
    {
     "data": {
      "text/html": [
       "<div>\n",
       "<style scoped>\n",
       "    .dataframe tbody tr th:only-of-type {\n",
       "        vertical-align: middle;\n",
       "    }\n",
       "\n",
       "    .dataframe tbody tr th {\n",
       "        vertical-align: top;\n",
       "    }\n",
       "\n",
       "    .dataframe thead th {\n",
       "        text-align: right;\n",
       "    }\n",
       "</style>\n",
       "<table border=\"1\" class=\"dataframe\">\n",
       "  <thead>\n",
       "    <tr style=\"text-align: right;\">\n",
       "      <th></th>\n",
       "      <th>CompanySymbol</th>\n",
       "      <th>OpenPrice</th>\n",
       "      <th>HighPrice</th>\n",
       "      <th>LowPrice</th>\n",
       "      <th>LastPrice</th>\n",
       "    </tr>\n",
       "    <tr>\n",
       "      <th>Date</th>\n",
       "      <th></th>\n",
       "      <th></th>\n",
       "      <th></th>\n",
       "      <th></th>\n",
       "      <th></th>\n",
       "    </tr>\n",
       "  </thead>\n",
       "  <tbody>\n",
       "    <tr>\n",
       "      <th>2019-03-25</th>\n",
       "      <td>AIRPORT</td>\n",
       "      <td>7.6</td>\n",
       "      <td>7.6</td>\n",
       "      <td>6.9</td>\n",
       "      <td>7.33</td>\n",
       "    </tr>\n",
       "  </tbody>\n",
       "</table>\n",
       "</div>"
      ],
      "text/plain": [
       "           CompanySymbol  OpenPrice  HighPrice  LowPrice  LastPrice\n",
       "Date                                                               \n",
       "2019-03-25       AIRPORT        7.6        7.6       6.9       7.33"
      ]
     },
     "execution_count": 18,
     "metadata": {},
     "output_type": "execute_result"
    }
   ],
   "source": [
    "airport.loc['2019-03-25']"
   ]
  },
  {
   "cell_type": "markdown",
   "metadata": {},
   "source": [
    "# Comparison"
   ]
  },
  {
   "cell_type": "markdown",
   "metadata": {},
   "source": [
    "This section compares the airasia's LastPrice with the airport's LastPrice using correlation and covariance. <br>\n",
    "In order to calculate the covariance, both time series must be normalised and become on the same scale. <br>\n",
    "Here MinMaxScaler from preprocessing sci-kit learn is used."
   ]
  },
  {
   "cell_type": "code",
   "execution_count": 19,
   "metadata": {},
   "outputs": [],
   "source": [
    "airasia = airasia[['LastPrice']]\n",
    "airport = airport[['LastPrice']]"
   ]
  },
  {
   "cell_type": "code",
   "execution_count": 20,
   "metadata": {},
   "outputs": [],
   "source": [
    "# Join airasia and airport on the date\n",
    "compare = airasia.merge(airport, on='Date', how='outer')"
   ]
  },
  {
   "cell_type": "code",
   "execution_count": 21,
   "metadata": {},
   "outputs": [],
   "source": [
    "# Add column name\n",
    "compare.columns = ['airasia', 'airport']"
   ]
  },
  {
   "cell_type": "code",
   "execution_count": 22,
   "metadata": {},
   "outputs": [
    {
     "data": {
      "text/html": [
       "<div>\n",
       "<style scoped>\n",
       "    .dataframe tbody tr th:only-of-type {\n",
       "        vertical-align: middle;\n",
       "    }\n",
       "\n",
       "    .dataframe tbody tr th {\n",
       "        vertical-align: top;\n",
       "    }\n",
       "\n",
       "    .dataframe thead th {\n",
       "        text-align: right;\n",
       "    }\n",
       "</style>\n",
       "<table border=\"1\" class=\"dataframe\">\n",
       "  <thead>\n",
       "    <tr style=\"text-align: right;\">\n",
       "      <th></th>\n",
       "      <th>airasia</th>\n",
       "      <th>airport</th>\n",
       "    </tr>\n",
       "    <tr>\n",
       "      <th>Date</th>\n",
       "      <th></th>\n",
       "      <th></th>\n",
       "    </tr>\n",
       "  </thead>\n",
       "  <tbody>\n",
       "    <tr>\n",
       "      <th>2019-03-13</th>\n",
       "      <td>2.79</td>\n",
       "      <td>7.74</td>\n",
       "    </tr>\n",
       "    <tr>\n",
       "      <th>2019-02-27</th>\n",
       "      <td>3.04</td>\n",
       "      <td>8.19</td>\n",
       "    </tr>\n",
       "    <tr>\n",
       "      <th>2019-03-20</th>\n",
       "      <td>2.79</td>\n",
       "      <td>7.70</td>\n",
       "    </tr>\n",
       "    <tr>\n",
       "      <th>2019-03-11</th>\n",
       "      <td>2.77</td>\n",
       "      <td>7.64</td>\n",
       "    </tr>\n",
       "    <tr>\n",
       "      <th>2019-03-01</th>\n",
       "      <td>2.74</td>\n",
       "      <td>8.12</td>\n",
       "    </tr>\n",
       "  </tbody>\n",
       "</table>\n",
       "</div>"
      ],
      "text/plain": [
       "            airasia  airport\n",
       "Date                        \n",
       "2019-03-13     2.79     7.74\n",
       "2019-02-27     3.04     8.19\n",
       "2019-03-20     2.79     7.70\n",
       "2019-03-11     2.77     7.64\n",
       "2019-03-01     2.74     8.12"
      ]
     },
     "execution_count": 22,
     "metadata": {},
     "output_type": "execute_result"
    }
   ],
   "source": [
    "compare.head()"
   ]
  },
  {
   "cell_type": "code",
   "execution_count": 23,
   "metadata": {},
   "outputs": [],
   "source": [
    "from sklearn import preprocessing"
   ]
  },
  {
   "cell_type": "code",
   "execution_count": 24,
   "metadata": {},
   "outputs": [
    {
     "data": {
      "text/html": [
       "<div>\n",
       "<style scoped>\n",
       "    .dataframe tbody tr th:only-of-type {\n",
       "        vertical-align: middle;\n",
       "    }\n",
       "\n",
       "    .dataframe tbody tr th {\n",
       "        vertical-align: top;\n",
       "    }\n",
       "\n",
       "    .dataframe thead th {\n",
       "        text-align: right;\n",
       "    }\n",
       "</style>\n",
       "<table border=\"1\" class=\"dataframe\">\n",
       "  <thead>\n",
       "    <tr style=\"text-align: right;\">\n",
       "      <th></th>\n",
       "      <th>airasia</th>\n",
       "      <th>airport</th>\n",
       "    </tr>\n",
       "  </thead>\n",
       "  <tbody>\n",
       "    <tr>\n",
       "      <th>0</th>\n",
       "      <td>0.276596</td>\n",
       "      <td>0.427350</td>\n",
       "    </tr>\n",
       "    <tr>\n",
       "      <th>1</th>\n",
       "      <td>0.808511</td>\n",
       "      <td>0.811966</td>\n",
       "    </tr>\n",
       "    <tr>\n",
       "      <th>2</th>\n",
       "      <td>0.276596</td>\n",
       "      <td>0.393162</td>\n",
       "    </tr>\n",
       "    <tr>\n",
       "      <th>3</th>\n",
       "      <td>0.234043</td>\n",
       "      <td>0.341880</td>\n",
       "    </tr>\n",
       "    <tr>\n",
       "      <th>4</th>\n",
       "      <td>0.170213</td>\n",
       "      <td>0.752137</td>\n",
       "    </tr>\n",
       "  </tbody>\n",
       "</table>\n",
       "</div>"
      ],
      "text/plain": [
       "    airasia   airport\n",
       "0  0.276596  0.427350\n",
       "1  0.808511  0.811966\n",
       "2  0.276596  0.393162\n",
       "3  0.234043  0.341880\n",
       "4  0.170213  0.752137"
      ]
     },
     "execution_count": 24,
     "metadata": {},
     "output_type": "execute_result"
    }
   ],
   "source": [
    "# Normalize both LastPrices and convert to dataframe \n",
    "min_max_scaler = preprocessing.MinMaxScaler()\n",
    "scaled = min_max_scaler.fit_transform(compare)\n",
    "scaled_df = pd.DataFrame(scaled)\n",
    "scaled_df.columns = ['airasia','airport']\n",
    "scaled_df.head()"
   ]
  },
  {
   "cell_type": "code",
   "execution_count": 25,
   "metadata": {},
   "outputs": [
    {
     "data": {
      "text/html": [
       "<div>\n",
       "<style scoped>\n",
       "    .dataframe tbody tr th:only-of-type {\n",
       "        vertical-align: middle;\n",
       "    }\n",
       "\n",
       "    .dataframe tbody tr th {\n",
       "        vertical-align: top;\n",
       "    }\n",
       "\n",
       "    .dataframe thead th {\n",
       "        text-align: right;\n",
       "    }\n",
       "</style>\n",
       "<table border=\"1\" class=\"dataframe\">\n",
       "  <thead>\n",
       "    <tr style=\"text-align: right;\">\n",
       "      <th></th>\n",
       "      <th>airasia</th>\n",
       "      <th>airport</th>\n",
       "    </tr>\n",
       "  </thead>\n",
       "  <tbody>\n",
       "    <tr>\n",
       "      <th>airasia</th>\n",
       "      <td>0.069531</td>\n",
       "      <td>0.057953</td>\n",
       "    </tr>\n",
       "    <tr>\n",
       "      <th>airport</th>\n",
       "      <td>0.057953</td>\n",
       "      <td>0.078254</td>\n",
       "    </tr>\n",
       "  </tbody>\n",
       "</table>\n",
       "</div>"
      ],
      "text/plain": [
       "          airasia   airport\n",
       "airasia  0.069531  0.057953\n",
       "airport  0.057953  0.078254"
      ]
     },
     "execution_count": 25,
     "metadata": {},
     "output_type": "execute_result"
    }
   ],
   "source": [
    "scaled_df.cov()"
   ]
  },
  {
   "cell_type": "code",
   "execution_count": 26,
   "metadata": {},
   "outputs": [
    {
     "data": {
      "text/html": [
       "<div>\n",
       "<style scoped>\n",
       "    .dataframe tbody tr th:only-of-type {\n",
       "        vertical-align: middle;\n",
       "    }\n",
       "\n",
       "    .dataframe tbody tr th {\n",
       "        vertical-align: top;\n",
       "    }\n",
       "\n",
       "    .dataframe thead th {\n",
       "        text-align: right;\n",
       "    }\n",
       "</style>\n",
       "<table border=\"1\" class=\"dataframe\">\n",
       "  <thead>\n",
       "    <tr style=\"text-align: right;\">\n",
       "      <th></th>\n",
       "      <th>airasia</th>\n",
       "      <th>airport</th>\n",
       "    </tr>\n",
       "  </thead>\n",
       "  <tbody>\n",
       "    <tr>\n",
       "      <th>airasia</th>\n",
       "      <td>1.000000</td>\n",
       "      <td>0.785657</td>\n",
       "    </tr>\n",
       "    <tr>\n",
       "      <th>airport</th>\n",
       "      <td>0.785657</td>\n",
       "      <td>1.000000</td>\n",
       "    </tr>\n",
       "  </tbody>\n",
       "</table>\n",
       "</div>"
      ],
      "text/plain": [
       "          airasia   airport\n",
       "airasia  1.000000  0.785657\n",
       "airport  0.785657  1.000000"
      ]
     },
     "execution_count": 26,
     "metadata": {},
     "output_type": "execute_result"
    }
   ],
   "source": [
    "compare.corr()"
   ]
  },
  {
   "cell_type": "markdown",
   "metadata": {},
   "source": [
    "# Dimension Reduction (PAA & SAX)"
   ]
  },
  {
   "cell_type": "markdown",
   "metadata": {},
   "source": [
    "Time series have a high dimensional nature due to an unlimited range of data points that they can have. In this section, the well known [SAX](https://tslearn.readthedocs.io/en/latest/auto_examples/plot_sax.html#sphx-glr-auto-examples-plot-sax-py) dimension reduction algorithm for time series is demonstrated. SAX reduce the data points to 8 symbols. In order to perform SAX, the time series must be converted to raw data first followed by PAA."
   ]
  },
  {
   "cell_type": "code",
   "execution_count": 27,
   "metadata": {},
   "outputs": [],
   "source": [
    "from tslearn.preprocessing import TimeSeriesScalerMeanVariance\n",
    "from tslearn.piecewise import PiecewiseAggregateApproximation\n",
    "from tslearn.piecewise import SymbolicAggregateApproximation, OneD_SymbolicAggregateApproximation"
   ]
  },
  {
   "cell_type": "code",
   "execution_count": 28,
   "metadata": {},
   "outputs": [
    {
     "data": {
      "text/plain": [
       "Text(0.5, 1.0, 'Raw time series')"
      ]
     },
     "execution_count": 28,
     "metadata": {},
     "output_type": "execute_result"
    },
    {
     "data": {
      "image/png": "[encoded data removed]",
      "text/plain": [
       "<Figure size 432x288 with 1 Axes>"
      ]
     },
     "metadata": {
      "needs_background": "light"
     },
     "output_type": "display_data"
    }
   ],
   "source": [
    "# TS (normalize the company's ts with mean of 0 and std of 1)\n",
    "scaler = TimeSeriesScalerMeanVariance(mu=0., std=1.)  # Rescale time series\n",
    "dataset = scaler.fit_transform(airasia.LastPrice)\n",
    "\n",
    "plt.figure()\n",
    "plt.subplot(2, 2, 1)  # First, raw time series\n",
    "plt.plot(dataset[0].ravel(), \"b-\")\n",
    "plt.title(\"Raw time series\")"
   ]
  },
  {
   "cell_type": "code",
   "execution_count": 29,
   "metadata": {},
   "outputs": [
    {
     "data": {
      "text/plain": [
       "Text(0.5, 1.0, 'PAA')"
      ]
     },
     "execution_count": 29,
     "metadata": {},
     "output_type": "execute_result"
    },
    {
     "data": {
      "image/png": "[encoded data removed]",
      "text/plain": [
       "<Figure size 432x288 with 1 Axes>"
      ]
     },
     "metadata": {
      "needs_background": "light"
     },
     "output_type": "display_data"
    }
   ],
   "source": [
    "# PAA transform (and inverse transform) of the data\n",
    "n_paa_segments = 10\n",
    "paa = PiecewiseAggregateApproximation(n_segments=n_paa_segments)\n",
    "paa_dataset_inv = paa.inverse_transform(paa.fit_transform(dataset))\n",
    "\n",
    "\n",
    "plt.subplot(2, 2, 2)  # Second, PAA\n",
    "plt.plot(paa_dataset_inv.ravel(), \"b-\", alpha=0.4)\n",
    "plt.plot(paa_dataset_inv.ravel(), \"b-\")\n",
    "plt.title(\"PAA\")"
   ]
  },
  {
   "cell_type": "code",
   "execution_count": 30,
   "metadata": {},
   "outputs": [
    {
     "data": {
      "text/plain": [
       "Text(0.5, 1.0, 'SAX, 8 symbols')"
      ]
     },
     "execution_count": 30,
     "metadata": {},
     "output_type": "execute_result"
    },
    {
     "data": {
      "image/png": "[encoded data removed]",
      "text/plain": [
       "<Figure size 432x288 with 1 Axes>"
      ]
     },
     "metadata": {
      "needs_background": "light"
     },
     "output_type": "display_data"
    }
   ],
   "source": [
    "# SAX transform\n",
    "n_sax_symbols = 8\n",
    "sax = SymbolicAggregateApproximation(n_segments=n_paa_segments, alphabet_size_avg=n_sax_symbols)\n",
    "sax_dataset_inv = sax.inverse_transform(sax.fit_transform(dataset))\n",
    "\n",
    "\n",
    "plt.subplot(2, 2, 3)  # Then SAX\n",
    "plt.plot(dataset[0].ravel(), \"b-\", alpha=0.4)\n",
    "plt.plot(sax_dataset_inv[0].ravel(), \"b-\")\n",
    "plt.title(\"SAX, %d symbols\" % n_sax_symbols)"
   ]
  },
  {
   "cell_type": "code",
   "execution_count": 31,
   "metadata": {},
   "outputs": [
    {
     "data": {
      "text/plain": [
       "Text(0.5, 1.0, '1d-SAX, 64 symbols (8x8)')"
      ]
     },
     "execution_count": 31,
     "metadata": {},
     "output_type": "execute_result"
    },
    {
     "data": {
      "image/png": "[encoded data removed]",
      "text/plain": [
       "<Figure size 432x288 with 1 Axes>"
      ]
     },
     "metadata": {
      "needs_background": "light"
     },
     "output_type": "display_data"
    }
   ],
   "source": [
    "# 1d-SAX transform\n",
    "n_sax_symbols_avg = 8\n",
    "n_sax_symbols_slope = 8\n",
    "one_d_sax = OneD_SymbolicAggregateApproximation(n_segments=n_paa_segments, alphabet_size_avg=n_sax_symbols_avg,\n",
    "                                                alphabet_size_slope=n_sax_symbols_slope)\n",
    "one_d_sax_dataset_inv = one_d_sax.inverse_transform(one_d_sax.fit_transform(dataset))\n",
    "\n",
    "plt.subplot(2, 2, 4)  # Finally, 1d-SAX\n",
    "plt.plot(dataset[0].ravel(), \"b-\", alpha=0.4)\n",
    "plt.plot(one_d_sax_dataset_inv[0].ravel(), \"b-\")\n",
    "plt.title(\"1d-SAX, %d symbols (%dx%d)\" % (n_sax_symbols_avg * n_sax_symbols_slope,\n",
    "                                          n_sax_symbols_avg,\n",
    "                                          n_sax_symbols_slope))\n"
   ]
  },
  {
   "cell_type": "markdown",
   "metadata": {},
   "source": [
    "# News"
   ]
  },
  {
   "cell_type": "markdown",
   "metadata": {},
   "source": [
    "This section gets the related news story in the specified interval of time to find out the frequent key terms during this period. "
   ]
  },
  {
   "cell_type": "code",
   "execution_count": 32,
   "metadata": {},
   "outputs": [],
   "source": [
    "news = pd.read_csv('data/news.csv')"
   ]
  },
  {
   "cell_type": "code",
   "execution_count": 33,
   "metadata": {},
   "outputs": [
    {
     "data": {
      "text/html": [
       "<div>\n",
       "<style scoped>\n",
       "    .dataframe tbody tr th:only-of-type {\n",
       "        vertical-align: middle;\n",
       "    }\n",
       "\n",
       "    .dataframe tbody tr th {\n",
       "        vertical-align: top;\n",
       "    }\n",
       "\n",
       "    .dataframe thead th {\n",
       "        text-align: right;\n",
       "    }\n",
       "</style>\n",
       "<table border=\"1\" class=\"dataframe\">\n",
       "  <thead>\n",
       "    <tr style=\"text-align: right;\">\n",
       "      <th></th>\n",
       "      <th>link</th>\n",
       "      <th>headline</th>\n",
       "      <th>category</th>\n",
       "      <th>date</th>\n",
       "      <th>timestamp</th>\n",
       "      <th>story</th>\n",
       "    </tr>\n",
       "  </thead>\n",
       "  <tbody>\n",
       "    <tr>\n",
       "      <th>0</th>\n",
       "      <td>https://www.thestar.com.my/business/business-n...</td>\n",
       "      <td>Buffett's Berkshire says vice chairmen Jain, A...</td>\n",
       "      <td>Corporate News</td>\n",
       "      <td>Saturday, 16 Mar 2019</td>\n",
       "      <td>6:47 AM MYT</td>\n",
       "      <td>NEW YORK: Berkshire Hathaway Inc on Friday sai...</td>\n",
       "    </tr>\n",
       "    <tr>\n",
       "      <th>1</th>\n",
       "      <td>https://www.thestar.com.my/business/business-n...</td>\n",
       "      <td>Global stocks gain on trade, Brexit optimism, ...</td>\n",
       "      <td>Markets</td>\n",
       "      <td>Saturday, 16 Mar 2019</td>\n",
       "      <td>6:55 AM MYT</td>\n",
       "      <td>NEW YORK: A gauge of global equity markets hit...</td>\n",
       "    </tr>\n",
       "  </tbody>\n",
       "</table>\n",
       "</div>"
      ],
      "text/plain": [
       "                                                link  \\\n",
       "0  https://www.thestar.com.my/business/business-n...   \n",
       "1  https://www.thestar.com.my/business/business-n...   \n",
       "\n",
       "                                            headline        category  \\\n",
       "0  Buffett's Berkshire says vice chairmen Jain, A...  Corporate News   \n",
       "1  Global stocks gain on trade, Brexit optimism, ...         Markets   \n",
       "\n",
       "                    date    timestamp  \\\n",
       "0  Saturday, 16 Mar 2019  6:47 AM MYT   \n",
       "1  Saturday, 16 Mar 2019  6:55 AM MYT   \n",
       "\n",
       "                                               story  \n",
       "0  NEW YORK: Berkshire Hathaway Inc on Friday sai...  \n",
       "1  NEW YORK: A gauge of global equity markets hit...  "
      ]
     },
     "execution_count": 33,
     "metadata": {},
     "output_type": "execute_result"
    }
   ],
   "source": [
    "news.head(2)"
   ]
  },
  {
   "cell_type": "code",
   "execution_count": 34,
   "metadata": {},
   "outputs": [],
   "source": [
    "# split the 'date' column into separate 'week_day' and 'date' columns\n",
    "news[['week_day', 'date']] = news['date'].str.split(',', expand=True) "
   ]
  },
  {
   "cell_type": "code",
   "execution_count": 35,
   "metadata": {},
   "outputs": [],
   "source": [
    "# transfer the 'date' column into datetime format \n",
    "news['date'] = pd.to_datetime(news['date'])"
   ]
  },
  {
   "cell_type": "code",
   "execution_count": 36,
   "metadata": {},
   "outputs": [
    {
     "data": {
      "text/plain": [
       "array(['Corporate News', 'Markets', 'Business News', 'Economy',\n",
       "       'Oil & Gas', 'Palm Oil', 'Airlines', 'Forex', 'Plantations',\n",
       "       'Cryptocurrency', 'Analyst Reports', 'Banking', 'Property',\n",
       "       'Construction', 'Stock on the Move', 'Auto', 'e-Commerce', '1MDB',\n",
       "       'Insurance', 'Support Line', 'Telcos', 'SMEBiz', 'Nation',\n",
       "       'Investment', 'Technology', 'ASEAN', 'Advertising & Media', 'M&A',\n",
       "       'Stocks Analysis', 'Retail', 'Utilities', 'Taxation',\n",
       "       'Short Position', 'SME', 'Fintech'], dtype=object)"
      ]
     },
     "execution_count": 36,
     "metadata": {},
     "output_type": "execute_result"
    }
   ],
   "source": [
    "news.category.unique()"
   ]
  },
  {
   "cell_type": "code",
   "execution_count": 37,
   "metadata": {},
   "outputs": [],
   "source": [
    "# select the news related to the airline category\n",
    "airline_news = news[news.category == 'Airlines']"
   ]
  },
  {
   "cell_type": "code",
   "execution_count": 38,
   "metadata": {},
   "outputs": [],
   "source": [
    "# selecting useful columns\n",
    "airline_news = airline_news[['date', 'story']]"
   ]
  },
  {
   "cell_type": "code",
   "execution_count": 39,
   "metadata": {},
   "outputs": [],
   "source": [
    "# slicing news that are outside the duration of interest\n",
    "airline_news = airline_news[(airline_news.date > '2019-02-25') & (airline_news.date < '2019-03-29')]"
   ]
  },
  {
   "cell_type": "code",
   "execution_count": 40,
   "metadata": {},
   "outputs": [],
   "source": [
    "# set date as the index\n",
    "airline_news = airline_news.set_index('date')"
   ]
  },
  {
   "cell_type": "code",
   "execution_count": 41,
   "metadata": {},
   "outputs": [
    {
     "data": {
      "text/html": [
       "<div>\n",
       "<style scoped>\n",
       "    .dataframe tbody tr th:only-of-type {\n",
       "        vertical-align: middle;\n",
       "    }\n",
       "\n",
       "    .dataframe tbody tr th {\n",
       "        vertical-align: top;\n",
       "    }\n",
       "\n",
       "    .dataframe thead th {\n",
       "        text-align: right;\n",
       "    }\n",
       "</style>\n",
       "<table border=\"1\" class=\"dataframe\">\n",
       "  <thead>\n",
       "    <tr style=\"text-align: right;\">\n",
       "      <th></th>\n",
       "      <th>story</th>\n",
       "    </tr>\n",
       "    <tr>\n",
       "      <th>date</th>\n",
       "      <th></th>\n",
       "    </tr>\n",
       "  </thead>\n",
       "  <tbody>\n",
       "    <tr>\n",
       "      <th>2019-03-08</th>\n",
       "      <td>TOKYO: Just as a tide of cancelled orders has ...</td>\n",
       "    </tr>\n",
       "    <tr>\n",
       "      <th>2019-03-08</th>\n",
       "      <td>KUALA LUMPUR: AirAsia X Bhd  has announced the...</td>\n",
       "    </tr>\n",
       "    <tr>\n",
       "      <th>2019-03-08</th>\n",
       "      <td>HANDAN, China: Every Saturday, Chinese farmer ...</td>\n",
       "    </tr>\n",
       "    <tr>\n",
       "      <th>2019-03-09</th>\n",
       "      <td>Every three to four years or so, Malaysia Airl...</td>\n",
       "    </tr>\n",
       "    <tr>\n",
       "      <th>2019-03-11</th>\n",
       "      <td>KUALA LUMPUR: Malaysia Airlines Bhd said it ha...</td>\n",
       "    </tr>\n",
       "    <tr>\n",
       "      <th>2019-03-12</th>\n",
       "      <td>Petaling Jaya: Shutting down troubled Malaysia...</td>\n",
       "    </tr>\n",
       "    <tr>\n",
       "      <th>2019-03-12</th>\n",
       "      <td>SINGAPORE: Singapore became the latest nation ...</td>\n",
       "    </tr>\n",
       "    <tr>\n",
       "      <th>2019-03-12</th>\n",
       "      <td>TOKYO: Malaysia may have to reconsider the pur...</td>\n",
       "    </tr>\n",
       "    <tr>\n",
       "      <th>2019-03-12</th>\n",
       "      <td>BEIJING: Boeing Co chief executive officer Den...</td>\n",
       "    </tr>\n",
       "    <tr>\n",
       "      <th>2019-03-13</th>\n",
       "      <td>SINGAPORE: Hong Kong’s Cathay Pacific Airways ...</td>\n",
       "    </tr>\n",
       "    <tr>\n",
       "      <th>2019-03-13</th>\n",
       "      <td>WASHINGTON/ADDIS ABABA: The U.S. aviation regu...</td>\n",
       "    </tr>\n",
       "    <tr>\n",
       "      <th>2019-03-14</th>\n",
       "      <td>KUALA LUMPUR: Finance Minister Lim Guan Eng ha...</td>\n",
       "    </tr>\n",
       "    <tr>\n",
       "      <th>2019-03-14</th>\n",
       "      <td>PETALING JAYA: AirAsia  Group Bhd is likely to...</td>\n",
       "    </tr>\n",
       "    <tr>\n",
       "      <th>2019-03-15</th>\n",
       "      <td>BOEING Co. suffered dual setbacks Thursday whe...</td>\n",
       "    </tr>\n",
       "    <tr>\n",
       "      <th>2019-03-15</th>\n",
       "      <td>AFTER all the brouhaha over the possible shutd...</td>\n",
       "    </tr>\n",
       "    <tr>\n",
       "      <th>2019-03-16</th>\n",
       "      <td>DUBLIN/SINGAPORE/MONTREAL: The grounding of Bo...</td>\n",
       "    </tr>\n",
       "    <tr>\n",
       "      <th>2019-03-19</th>\n",
       "      <td>BANGKOK: Airports of Thailand PCL (AOT) will p...</td>\n",
       "    </tr>\n",
       "    <tr>\n",
       "      <th>2019-03-19</th>\n",
       "      <td>PETALING JAYA: The Malaysia Airlines Retirees ...</td>\n",
       "    </tr>\n",
       "    <tr>\n",
       "      <th>2019-03-20</th>\n",
       "      <td>KUALA LUMPUR: The Malaysian Aviation Commissio...</td>\n",
       "    </tr>\n",
       "    <tr>\n",
       "      <th>2019-03-20</th>\n",
       "      <td>KUALA LUMPUR: There is a need to find new ways...</td>\n",
       "    </tr>\n",
       "    <tr>\n",
       "      <th>2019-03-20</th>\n",
       "      <td>PETALING JAYA: The Malaysia Airlines Retirees ...</td>\n",
       "    </tr>\n",
       "    <tr>\n",
       "      <th>2019-03-20</th>\n",
       "      <td>KUALA LUMPUR: Airasia Bhd  is committed to str...</td>\n",
       "    </tr>\n",
       "    <tr>\n",
       "      <th>2019-03-21</th>\n",
       "      <td>JAKARTA: Indonesian carrier Lion Air has start...</td>\n",
       "    </tr>\n",
       "    <tr>\n",
       "      <th>2019-03-22</th>\n",
       "      <td>SINGAPORE: Lion Air has started preparations f...</td>\n",
       "    </tr>\n",
       "    <tr>\n",
       "      <th>2019-03-23</th>\n",
       "      <td>TALK of selling Malaysia Airlines Bhd (MAS) se...</td>\n",
       "    </tr>\n",
       "    <tr>\n",
       "      <th>2019-03-25</th>\n",
       "      <td>WASHINGTON: The safety-certification process t...</td>\n",
       "    </tr>\n",
       "    <tr>\n",
       "      <th>2019-03-25</th>\n",
       "      <td>SINGAPORE: Boeing Co. plans to meet this week ...</td>\n",
       "    </tr>\n",
       "    <tr>\n",
       "      <th>2019-03-26</th>\n",
       "      <td>PETALING JAYA: Malaysia Airports Holdings Bhd ...</td>\n",
       "    </tr>\n",
       "    <tr>\n",
       "      <th>2019-03-26</th>\n",
       "      <td>KUALA LUMPUR: European aerospace firm Airbus e...</td>\n",
       "    </tr>\n",
       "    <tr>\n",
       "      <th>2019-03-27</th>\n",
       "      <td>PARIS: Airbus SE secured a US$35bil jet deal f...</td>\n",
       "    </tr>\n",
       "    <tr>\n",
       "      <th>2019-03-27</th>\n",
       "      <td>KUALA LUMPUR: The Kuala Lumpur-Singapore fligh...</td>\n",
       "    </tr>\n",
       "    <tr>\n",
       "      <th>2019-03-28</th>\n",
       "      <td>SEATTLE/WASHINGTON: Boeing Co on Wednesday too...</td>\n",
       "    </tr>\n",
       "    <tr>\n",
       "      <th>2019-03-28</th>\n",
       "      <td>PETALING JAYA: Malaysia Airlines Bhd is a good...</td>\n",
       "    </tr>\n",
       "  </tbody>\n",
       "</table>\n",
       "</div>"
      ],
      "text/plain": [
       "                                                        story\n",
       "date                                                         \n",
       "2019-03-08  TOKYO: Just as a tide of cancelled orders has ...\n",
       "2019-03-08  KUALA LUMPUR: AirAsia X Bhd  has announced the...\n",
       "2019-03-08  HANDAN, China: Every Saturday, Chinese farmer ...\n",
       "2019-03-09  Every three to four years or so, Malaysia Airl...\n",
       "2019-03-11  KUALA LUMPUR: Malaysia Airlines Bhd said it ha...\n",
       "2019-03-12  Petaling Jaya: Shutting down troubled Malaysia...\n",
       "2019-03-12  SINGAPORE: Singapore became the latest nation ...\n",
       "2019-03-12  TOKYO: Malaysia may have to reconsider the pur...\n",
       "2019-03-12  BEIJING: Boeing Co chief executive officer Den...\n",
       "2019-03-13  SINGAPORE: Hong Kong’s Cathay Pacific Airways ...\n",
       "2019-03-13  WASHINGTON/ADDIS ABABA: The U.S. aviation regu...\n",
       "2019-03-14  KUALA LUMPUR: Finance Minister Lim Guan Eng ha...\n",
       "2019-03-14  PETALING JAYA: AirAsia  Group Bhd is likely to...\n",
       "2019-03-15  BOEING Co. suffered dual setbacks Thursday whe...\n",
       "2019-03-15  AFTER all the brouhaha over the possible shutd...\n",
       "2019-03-16  DUBLIN/SINGAPORE/MONTREAL: The grounding of Bo...\n",
       "2019-03-19  BANGKOK: Airports of Thailand PCL (AOT) will p...\n",
       "2019-03-19  PETALING JAYA: The Malaysia Airlines Retirees ...\n",
       "2019-03-20  KUALA LUMPUR: The Malaysian Aviation Commissio...\n",
       "2019-03-20  KUALA LUMPUR: There is a need to find new ways...\n",
       "2019-03-20  PETALING JAYA: The Malaysia Airlines Retirees ...\n",
       "2019-03-20  KUALA LUMPUR: Airasia Bhd  is committed to str...\n",
       "2019-03-21  JAKARTA: Indonesian carrier Lion Air has start...\n",
       "2019-03-22  SINGAPORE: Lion Air has started preparations f...\n",
       "2019-03-23  TALK of selling Malaysia Airlines Bhd (MAS) se...\n",
       "2019-03-25  WASHINGTON: The safety-certification process t...\n",
       "2019-03-25  SINGAPORE: Boeing Co. plans to meet this week ...\n",
       "2019-03-26  PETALING JAYA: Malaysia Airports Holdings Bhd ...\n",
       "2019-03-26  KUALA LUMPUR: European aerospace firm Airbus e...\n",
       "2019-03-27  PARIS: Airbus SE secured a US$35bil jet deal f...\n",
       "2019-03-27  KUALA LUMPUR: The Kuala Lumpur-Singapore fligh...\n",
       "2019-03-28  SEATTLE/WASHINGTON: Boeing Co on Wednesday too...\n",
       "2019-03-28  PETALING JAYA: Malaysia Airlines Bhd is a good..."
      ]
     },
     "execution_count": 41,
     "metadata": {},
     "output_type": "execute_result"
    }
   ],
   "source": [
    "# sort by date\n",
    "airline_news.sort_values('date')"
   ]
  },
  {
   "cell_type": "markdown",
   "metadata": {},
   "source": [
    "# WordCloud"
   ]
  },
  {
   "cell_type": "markdown",
   "metadata": {},
   "source": [
    "[WordCloud](https://amueller.github.io/word_cloud/index.html) is a common visualization tool to emphasis on the terms used based on their frequency in the text. this will help to see what are the keywords that have been mentioned the most in the news during this period. In order to have a better understanding, there are two kinds of noises that should be removed from the text. Firstly, the common English stopwords followed by the stopwords related to the news reporting. Some example of the news related stopwords are (said, Reuters, Washington, months and weekdays)"
   ]
  },
  {
   "cell_type": "code",
   "execution_count": 42,
   "metadata": {},
   "outputs": [],
   "source": [
    "from wordcloud import WordCloud, STOPWORDS\n",
    "from PIL import Image\n",
    "import numpy as np"
   ]
  },
  {
   "cell_type": "code",
   "execution_count": 43,
   "metadata": {},
   "outputs": [],
   "source": [
    "# selecting an image for the mask\n",
    "img = Image.open('./img/airplane.jpg')\n",
    "mask = np.array(img)"
   ]
  },
  {
   "cell_type": "code",
   "execution_count": 44,
   "metadata": {},
   "outputs": [],
   "source": [
    "# creating a list of news stopwords and add them to the English stopwords\n",
    "air_sw = {'said', 'company', 'two', 'one', 'max', 'year', 'years', 'bhd', 'washington', 'reuters', 'following', \n",
    "          'statement', 'co', 'week',  'will', 'plane', 'planes', 'flight', 'flights', 'aircraft', 'mas', \n",
    "          'kuala lumpur', 'singapore', 'malaysia', 'airport', 'world', 'biggest', 'yet', 'group', 'october',\n",
    "          'kuala' ,'lumpur', 'wednesday', 'flights', 'airports', 'malaysian', 'now', 'past', 'may'}\n",
    "stopwords = set(STOPWORDS)\n",
    "stopwords = stopwords.union(air_sw)"
   ]
  },
  {
   "cell_type": "code",
   "execution_count": 45,
   "metadata": {},
   "outputs": [],
   "source": [
    "# convert the stories to lower case\n",
    "content = ''\n",
    "for story in airline_news.story:\n",
    "    content += str(story).lower() + ' '"
   ]
  },
  {
   "cell_type": "code",
   "execution_count": 46,
   "metadata": {},
   "outputs": [
    {
     "data": {
      "image/png": "[encoded data removed]",
      "text/plain": [
       "<PIL.Image.Image image mode=RGB size=3600x2400 at 0x117903EB8>"
      ]
     },
     "execution_count": 46,
     "metadata": {},
     "output_type": "execute_result"
    }
   ],
   "source": [
    "# creating the wordcloud\n",
    "wc = WordCloud(background_color='#e6f7ff',\n",
    "               scale=4,\n",
    "               relative_scaling=1.0,\n",
    "               stopwords=stopwords,\n",
    "               max_words=50,\n",
    "               color_func=lambda *args, **kwargs: 'red',\n",
    "               mask=mask)\n",
    "wc.generate(content)\n",
    "wc.to_image()"
   ]
  },
  {
   "cell_type": "code",
   "execution_count": 47,
   "metadata": {},
   "outputs": [],
   "source": [
    "#wc.to_file('img/wc.png') "
   ]
  },
  {
   "cell_type": "markdown",
   "metadata": {},
   "source": [
    "# Tweets"
   ]
  },
  {
   "cell_type": "markdown",
   "metadata": {},
   "source": [
    "This section gets the tweets from related companies and sort by favourite count."
   ]
  },
  {
   "cell_type": "code",
   "execution_count": 48,
   "metadata": {},
   "outputs": [],
   "source": [
    "tweets = pd.read_csv('data/tweets.csv')"
   ]
  },
  {
   "cell_type": "code",
   "execution_count": 49,
   "metadata": {},
   "outputs": [
    {
     "data": {
      "text/plain": [
       "company_fullname    2746\n",
       "tweet_text          2746\n",
       "favorite_count      2746\n",
       "created_at          2746\n",
       "hashtags             468\n",
       "tweet_id            2746\n",
       "lang                2746\n",
       "urls                 624\n",
       "user_followers      2746\n",
       "user_screen_name    2746\n",
       "crawling_time       2746\n",
       "dtype: int64"
      ]
     },
     "execution_count": 49,
     "metadata": {},
     "output_type": "execute_result"
    }
   ],
   "source": [
    "tweets.count()"
   ]
  },
  {
   "cell_type": "code",
   "execution_count": 50,
   "metadata": {},
   "outputs": [
    {
     "data": {
      "text/html": [
       "<div>\n",
       "<style scoped>\n",
       "    .dataframe tbody tr th:only-of-type {\n",
       "        vertical-align: middle;\n",
       "    }\n",
       "\n",
       "    .dataframe tbody tr th {\n",
       "        vertical-align: top;\n",
       "    }\n",
       "\n",
       "    .dataframe thead th {\n",
       "        text-align: right;\n",
       "    }\n",
       "</style>\n",
       "<table border=\"1\" class=\"dataframe\">\n",
       "  <thead>\n",
       "    <tr style=\"text-align: right;\">\n",
       "      <th></th>\n",
       "      <th>company_fullname</th>\n",
       "      <th>tweet_text</th>\n",
       "      <th>favorite_count</th>\n",
       "      <th>created_at</th>\n",
       "      <th>hashtags</th>\n",
       "      <th>tweet_id</th>\n",
       "      <th>lang</th>\n",
       "      <th>urls</th>\n",
       "      <th>user_followers</th>\n",
       "      <th>user_screen_name</th>\n",
       "      <th>crawling_time</th>\n",
       "    </tr>\n",
       "  </thead>\n",
       "  <tbody>\n",
       "    <tr>\n",
       "      <th>0</th>\n",
       "      <td>AIRASIA X</td>\n",
       "      <td>RT @SFJ_JA22MC: エアアジアのスペマ、\\nアプリゲームの「ドールズフロントライ...</td>\n",
       "      <td>0</td>\n",
       "      <td>Wed Mar 27 21:54:44 +0000 2019</td>\n",
       "      <td>NaN</td>\n",
       "      <td>1111023773270958080</td>\n",
       "      <td>ja</td>\n",
       "      <td>NaN</td>\n",
       "      <td>263</td>\n",
       "      <td>yoshirin0150701</td>\n",
       "      <td>2019-03-31|20:12</td>\n",
       "    </tr>\n",
       "    <tr>\n",
       "      <th>1</th>\n",
       "      <td>AIRASIA X</td>\n",
       "      <td>RT @SFJ_JA22MC: エアアジアのスペマ、\\nアプリゲームの「ドールズフロントライ...</td>\n",
       "      <td>0</td>\n",
       "      <td>Wed Mar 27 20:57:22 +0000 2019</td>\n",
       "      <td>NaN</td>\n",
       "      <td>1111009339903344640</td>\n",
       "      <td>ja</td>\n",
       "      <td>NaN</td>\n",
       "      <td>302</td>\n",
       "      <td>8tlk2hOgrBbWlpe</td>\n",
       "      <td>2019-03-31|20:12</td>\n",
       "    </tr>\n",
       "  </tbody>\n",
       "</table>\n",
       "</div>"
      ],
      "text/plain": [
       "  company_fullname                                         tweet_text  \\\n",
       "0        AIRASIA X  RT @SFJ_JA22MC: エアアジアのスペマ、\\nアプリゲームの「ドールズフロントライ...   \n",
       "1        AIRASIA X  RT @SFJ_JA22MC: エアアジアのスペマ、\\nアプリゲームの「ドールズフロントライ...   \n",
       "\n",
       "   favorite_count                      created_at hashtags  \\\n",
       "0               0  Wed Mar 27 21:54:44 +0000 2019      NaN   \n",
       "1               0  Wed Mar 27 20:57:22 +0000 2019      NaN   \n",
       "\n",
       "              tweet_id lang urls  user_followers user_screen_name  \\\n",
       "0  1111023773270958080   ja  NaN             263  yoshirin0150701   \n",
       "1  1111009339903344640   ja  NaN             302  8tlk2hOgrBbWlpe   \n",
       "\n",
       "      crawling_time  \n",
       "0  2019-03-31|20:12  \n",
       "1  2019-03-31|20:12  "
      ]
     },
     "execution_count": 50,
     "metadata": {},
     "output_type": "execute_result"
    }
   ],
   "source": [
    "tweets.head(2)"
   ]
  },
  {
   "cell_type": "code",
   "execution_count": 51,
   "metadata": {},
   "outputs": [
    {
     "data": {
      "text/html": [
       "<div>\n",
       "<style scoped>\n",
       "    .dataframe tbody tr th:only-of-type {\n",
       "        vertical-align: middle;\n",
       "    }\n",
       "\n",
       "    .dataframe tbody tr th {\n",
       "        vertical-align: top;\n",
       "    }\n",
       "\n",
       "    .dataframe thead th {\n",
       "        text-align: right;\n",
       "    }\n",
       "</style>\n",
       "<table border=\"1\" class=\"dataframe\">\n",
       "  <thead>\n",
       "    <tr style=\"text-align: right;\">\n",
       "      <th></th>\n",
       "      <th>company_fullname</th>\n",
       "      <th>tweet_text</th>\n",
       "      <th>favorite_count</th>\n",
       "      <th>created_at</th>\n",
       "      <th>hashtags</th>\n",
       "      <th>tweet_id</th>\n",
       "      <th>lang</th>\n",
       "      <th>urls</th>\n",
       "      <th>user_followers</th>\n",
       "      <th>user_screen_name</th>\n",
       "      <th>crawling_time</th>\n",
       "    </tr>\n",
       "  </thead>\n",
       "  <tbody>\n",
       "  </tbody>\n",
       "</table>\n",
       "</div>"
      ],
      "text/plain": [
       "Empty DataFrame\n",
       "Columns: [company_fullname, tweet_text, favorite_count, created_at, hashtags, tweet_id, lang, urls, user_followers, user_screen_name, crawling_time]\n",
       "Index: []"
      ]
     },
     "execution_count": 51,
     "metadata": {},
     "output_type": "execute_result"
    }
   ],
   "source": [
    "# check for any related hashtag\n",
    "tweets[tweets.hashtags == \"airasia\"]"
   ]
  },
  {
   "cell_type": "code",
   "execution_count": 52,
   "metadata": {},
   "outputs": [
    {
     "data": {
      "text/plain": [
       "array(['ja', 'en', 'th', 'in', 'tl', 'pt', 'es', 'und', 'hi', 'it', 'ro',\n",
       "       'de', 'tr', 'nl', 'ru', 'vi', 'et', 'ca', 'cy', 'fi', 'zh', 'lt',\n",
       "       'fr', 'sv', 'ko', 'is', 'pl', 'kn', 'da', 'lv', 'eu'], dtype=object)"
      ]
     },
     "execution_count": 52,
     "metadata": {},
     "output_type": "execute_result"
    }
   ],
   "source": [
    "# used languages\n",
    "tweets.lang.unique()"
   ]
  },
  {
   "cell_type": "code",
   "execution_count": 53,
   "metadata": {},
   "outputs": [],
   "source": [
    "# select English ones\n",
    "tweets = tweets[tweets.lang == 'en']"
   ]
  },
  {
   "cell_type": "code",
   "execution_count": 54,
   "metadata": {},
   "outputs": [
    {
     "data": {
      "text/plain": [
       "array(['AIRASIA X', 'AFFIN BANK', 'AIRASIA GROUP', 'AJINOMOTO', 'AJIYA',\n",
       "       'AMVERTON', 'ANCOM', 'APFT', 'A-RANK', 'ASTRO MALAYSIA HOLDINGS',\n",
       "       'AVILLION', 'AWC', 'BRITISH AMERICAN TOBACCO', 'BCB', 'BATU KAWAN',\n",
       "       'BURSA MALAYSIA', 'C.I. HOLDINGS', 'CME GROUP', 'COMFORT GLOVES',\n",
       "       'CUSCAPI', 'COUNTRY VIEW', 'DEGEM', 'DESTINI', 'DRB-HICOM',\n",
       "       'UEM EDGENTA', 'EWEIN', 'ECO WORLD INTERNATIONAL',\n",
       "       'FAR EAST HOLDINGS', 'FGV HOLDINGS', 'GAMUDA', 'GENTING',\n",
       "       'GOLDEN LAND', 'GOPENG', 'GREEN PACKET', 'HIBISCUS PETROLEUM',\n",
       "       'HONG LEONG BANK', 'IGB', 'INTEGRATED LOGISTICS', 'INSAS',\n",
       "       'IOI PROPERTIES GROUP', 'JAG', 'JHM CONSOLIDATION', 'JOHORE TIN',\n",
       "       'KOSSAN RUBBER INDUSTRIES', 'LANDMARKS', 'MAGNUM', 'MALTON',\n",
       "       'MATANG', 'MAXIS', 'MALAYAN BANKING', 'MCT', 'MEDIA PRIMA', 'MGB',\n",
       "       'MINHO', 'MISC', 'MKH', 'MANAGEPAY SYSTEMS',\n",
       "       'MUHIBBAH ENGINEERING', 'N2N CONNECT', 'NESTLE', 'NYLEX', 'OCB',\n",
       "       'ORION IXL', 'PUBLIC BANK', 'PETRONAS GAS', 'PLENITUDE', 'PUC',\n",
       "       'REVENUE GROUP', 'REXIT', 'RGT', 'RHB BANK', 'SALCON',\n",
       "       'SAPURA INDUSTRIAL', 'SAPURA ENERGY', 'SAPURA RESOURCES', 'SCGM',\n",
       "       'SCICOM', 'SCIENTEX', 'SEERS', 'SPRING GALLERY', 'SIG GASES',\n",
       "       'SIME DARBY', 'SIME DARBY PLANTATION', 'SPRITZER', 'SP SETIA',\n",
       "       'STAR MEDIA GROUP', 'STRAITS INTER LOGISTICS', 'SUNWAY',\n",
       "       'SYMPHONY LIFE', 'SYSTECH', 'TASCO', 'TDM', 'TENAGA NASIONAL',\n",
       "       'THRIVEN GLOBAL', 'TELEKOM MALAYSIA', 'TRC SYNERGY', 'TURIYA',\n",
       "       'UEM SUNRISE', 'UNISEM', 'UZMA', 'VERSATILE CREATIVE', 'VSTECS',\n",
       "       'WHITE HORSE', 'XOX', 'YFG', 'ZELAN'], dtype=object)"
      ]
     },
     "execution_count": 54,
     "metadata": {},
     "output_type": "execute_result"
    }
   ],
   "source": [
    "# check different companies\n",
    "tweets.company_fullname.unique()"
   ]
  },
  {
   "cell_type": "code",
   "execution_count": 55,
   "metadata": {},
   "outputs": [],
   "source": [
    "# select tweets from 'AirAsia X' and 'AirAsia Group' companies\n",
    "tweets = tweets[(tweets.company_fullname == 'AIRASIA X') | (tweets.company_fullname == 'AIRASIA GROUP')]"
   ]
  },
  {
   "cell_type": "code",
   "execution_count": 56,
   "metadata": {},
   "outputs": [],
   "source": [
    "# selecting useful columns\n",
    "tweets = tweets[['tweet_text', 'favorite_count']]"
   ]
  },
  {
   "cell_type": "code",
   "execution_count": 57,
   "metadata": {},
   "outputs": [],
   "source": [
    "# remove retweets\n",
    "tweets = tweets[~tweets.tweet_text.str.contains('RT')]"
   ]
  },
  {
   "cell_type": "code",
   "execution_count": 58,
   "metadata": {},
   "outputs": [],
   "source": [
    "# sort by favourite count\n",
    "tweets = tweets.sort_values('favorite_count', ascending=False)"
   ]
  },
  {
   "cell_type": "code",
   "execution_count": 59,
   "metadata": {},
   "outputs": [
    {
     "data": {
      "text/html": [
       "<div>\n",
       "<style scoped>\n",
       "    .dataframe tbody tr th:only-of-type {\n",
       "        vertical-align: middle;\n",
       "    }\n",
       "\n",
       "    .dataframe tbody tr th {\n",
       "        vertical-align: top;\n",
       "    }\n",
       "\n",
       "    .dataframe thead th {\n",
       "        text-align: right;\n",
       "    }\n",
       "</style>\n",
       "<table border=\"1\" class=\"dataframe\">\n",
       "  <thead>\n",
       "    <tr style=\"text-align: right;\">\n",
       "      <th></th>\n",
       "      <th>tweet_text</th>\n",
       "      <th>favorite_count</th>\n",
       "    </tr>\n",
       "  </thead>\n",
       "  <tbody>\n",
       "    <tr>\n",
       "      <th>26</th>\n",
       "      <td>2019/03/27 FUK/RJFF\\nAirAsia X\\nAirbus A330-34...</td>\n",
       "      <td>13</td>\n",
       "    </tr>\n",
       "    <tr>\n",
       "      <th>59</th>\n",
       "      <td>.@AirAsia Group CEO @tonyfernandes on spectacu...</td>\n",
       "      <td>6</td>\n",
       "    </tr>\n",
       "    <tr>\n",
       "      <th>13</th>\n",
       "      <td>Highlight: AirAsia X blames ex-local partner o...</td>\n",
       "      <td>4</td>\n",
       "    </tr>\n",
       "    <tr>\n",
       "      <th>72</th>\n",
       "      <td>Our c-suite interview with #AirAsia Group CEO ...</td>\n",
       "      <td>3</td>\n",
       "    </tr>\n",
       "    <tr>\n",
       "      <th>5</th>\n",
       "      <td>AirAsia X considers routes to Europe, US mainl...</td>\n",
       "      <td>1</td>\n",
       "    </tr>\n",
       "    <tr>\n",
       "      <th>9</th>\n",
       "      <td>Wednesday's #aviation #news including AirAsia ...</td>\n",
       "      <td>1</td>\n",
       "    </tr>\n",
       "    <tr>\n",
       "      <th>3</th>\n",
       "      <td>@AirAsia X considers returning to #Europe over...</td>\n",
       "      <td>0</td>\n",
       "    </tr>\n",
       "    <tr>\n",
       "      <th>14</th>\n",
       "      <td>AirAsia X blames ex-local partner on late paym...</td>\n",
       "      <td>0</td>\n",
       "    </tr>\n",
       "    <tr>\n",
       "      <th>24</th>\n",
       "      <td>AirAsia X, Airbus finalizing details on potent...</td>\n",
       "      <td>0</td>\n",
       "    </tr>\n",
       "    <tr>\n",
       "      <th>38</th>\n",
       "      <td>AirAsia Group eyes disruption in Southeast Asi...</td>\n",
       "      <td>0</td>\n",
       "    </tr>\n",
       "    <tr>\n",
       "      <th>46</th>\n",
       "      <td>AirAsia Group eyes disruption in Southeast Asi...</td>\n",
       "      <td>0</td>\n",
       "    </tr>\n",
       "    <tr>\n",
       "      <th>51</th>\n",
       "      <td>AirAsia Group eyes disruption in Southeast Asi...</td>\n",
       "      <td>0</td>\n",
       "    </tr>\n",
       "    <tr>\n",
       "      <th>94</th>\n",
       "      <td>Come on ⁦@AirAsia⁩. Pay up\\n\\nAirAsia Group ow...</td>\n",
       "      <td>0</td>\n",
       "    </tr>\n",
       "  </tbody>\n",
       "</table>\n",
       "</div>"
      ],
      "text/plain": [
       "                                           tweet_text  favorite_count\n",
       "26  2019/03/27 FUK/RJFF\\nAirAsia X\\nAirbus A330-34...              13\n",
       "59  .@AirAsia Group CEO @tonyfernandes on spectacu...               6\n",
       "13  Highlight: AirAsia X blames ex-local partner o...               4\n",
       "72  Our c-suite interview with #AirAsia Group CEO ...               3\n",
       "5   AirAsia X considers routes to Europe, US mainl...               1\n",
       "9   Wednesday's #aviation #news including AirAsia ...               1\n",
       "3   @AirAsia X considers returning to #Europe over...               0\n",
       "14  AirAsia X blames ex-local partner on late paym...               0\n",
       "24  AirAsia X, Airbus finalizing details on potent...               0\n",
       "38  AirAsia Group eyes disruption in Southeast Asi...               0\n",
       "46  AirAsia Group eyes disruption in Southeast Asi...               0\n",
       "51  AirAsia Group eyes disruption in Southeast Asi...               0\n",
       "94  Come on ⁦@AirAsia⁩. Pay up\\n\\nAirAsia Group ow...               0"
      ]
     },
     "execution_count": 59,
     "metadata": {},
     "output_type": "execute_result"
    }
   ],
   "source": [
    "tweets"
   ]
  },
  {
   "cell_type": "markdown",
   "metadata": {},
   "source": [
    "# Sentiment"
   ]
  },
  {
   "cell_type": "markdown",
   "metadata": {},
   "source": [
    "This section undertakes sentiment analysis to understand the polarity on the selected tweets using TextBlob. <br>\n",
    "The polarity of a tweet shows that whether it is positive or negative. "
   ]
  },
  {
   "cell_type": "code",
   "execution_count": 60,
   "metadata": {},
   "outputs": [],
   "source": [
    "from textblob import TextBlob"
   ]
  },
  {
   "cell_type": "code",
   "execution_count": 61,
   "metadata": {},
   "outputs": [],
   "source": [
    "# create polarity column to apply tweet's polarity \n",
    "tweets['SentimentPolarity'] = tweets['tweet_text'].apply(lambda txt: TextBlob(txt).sentiment.polarity)"
   ]
  },
  {
   "cell_type": "code",
   "execution_count": 62,
   "metadata": {},
   "outputs": [
    {
     "data": {
      "text/html": [
       "<div>\n",
       "<style scoped>\n",
       "    .dataframe tbody tr th:only-of-type {\n",
       "        vertical-align: middle;\n",
       "    }\n",
       "\n",
       "    .dataframe tbody tr th {\n",
       "        vertical-align: top;\n",
       "    }\n",
       "\n",
       "    .dataframe thead th {\n",
       "        text-align: right;\n",
       "    }\n",
       "</style>\n",
       "<table border=\"1\" class=\"dataframe\">\n",
       "  <thead>\n",
       "    <tr style=\"text-align: right;\">\n",
       "      <th></th>\n",
       "      <th>tweet_text</th>\n",
       "      <th>favorite_count</th>\n",
       "      <th>SentimentPolarity</th>\n",
       "    </tr>\n",
       "  </thead>\n",
       "  <tbody>\n",
       "    <tr>\n",
       "      <th>9</th>\n",
       "      <td>Wednesday's #aviation #news including AirAsia ...</td>\n",
       "      <td>1</td>\n",
       "      <td>0.166667</td>\n",
       "    </tr>\n",
       "    <tr>\n",
       "      <th>24</th>\n",
       "      <td>AirAsia X, Airbus finalizing details on potent...</td>\n",
       "      <td>0</td>\n",
       "      <td>0.125000</td>\n",
       "    </tr>\n",
       "    <tr>\n",
       "      <th>3</th>\n",
       "      <td>@AirAsia X considers returning to #Europe over...</td>\n",
       "      <td>0</td>\n",
       "      <td>0.122222</td>\n",
       "    </tr>\n",
       "    <tr>\n",
       "      <th>26</th>\n",
       "      <td>2019/03/27 FUK/RJFF\\nAirAsia X\\nAirbus A330-34...</td>\n",
       "      <td>13</td>\n",
       "      <td>0.000000</td>\n",
       "    </tr>\n",
       "    <tr>\n",
       "      <th>72</th>\n",
       "      <td>Our c-suite interview with #AirAsia Group CEO ...</td>\n",
       "      <td>3</td>\n",
       "      <td>0.000000</td>\n",
       "    </tr>\n",
       "    <tr>\n",
       "      <th>5</th>\n",
       "      <td>AirAsia X considers routes to Europe, US mainl...</td>\n",
       "      <td>1</td>\n",
       "      <td>0.000000</td>\n",
       "    </tr>\n",
       "    <tr>\n",
       "      <th>38</th>\n",
       "      <td>AirAsia Group eyes disruption in Southeast Asi...</td>\n",
       "      <td>0</td>\n",
       "      <td>0.000000</td>\n",
       "    </tr>\n",
       "    <tr>\n",
       "      <th>46</th>\n",
       "      <td>AirAsia Group eyes disruption in Southeast Asi...</td>\n",
       "      <td>0</td>\n",
       "      <td>0.000000</td>\n",
       "    </tr>\n",
       "    <tr>\n",
       "      <th>51</th>\n",
       "      <td>AirAsia Group eyes disruption in Southeast Asi...</td>\n",
       "      <td>0</td>\n",
       "      <td>0.000000</td>\n",
       "    </tr>\n",
       "    <tr>\n",
       "      <th>94</th>\n",
       "      <td>Come on ⁦@AirAsia⁩. Pay up\\n\\nAirAsia Group ow...</td>\n",
       "      <td>0</td>\n",
       "      <td>0.000000</td>\n",
       "    </tr>\n",
       "    <tr>\n",
       "      <th>59</th>\n",
       "      <td>.@AirAsia Group CEO @tonyfernandes on spectacu...</td>\n",
       "      <td>6</td>\n",
       "      <td>-0.050000</td>\n",
       "    </tr>\n",
       "    <tr>\n",
       "      <th>13</th>\n",
       "      <td>Highlight: AirAsia X blames ex-local partner o...</td>\n",
       "      <td>4</td>\n",
       "      <td>-0.300000</td>\n",
       "    </tr>\n",
       "    <tr>\n",
       "      <th>14</th>\n",
       "      <td>AirAsia X blames ex-local partner on late paym...</td>\n",
       "      <td>0</td>\n",
       "      <td>-0.375000</td>\n",
       "    </tr>\n",
       "  </tbody>\n",
       "</table>\n",
       "</div>"
      ],
      "text/plain": [
       "                                           tweet_text  favorite_count  \\\n",
       "9   Wednesday's #aviation #news including AirAsia ...               1   \n",
       "24  AirAsia X, Airbus finalizing details on potent...               0   \n",
       "3   @AirAsia X considers returning to #Europe over...               0   \n",
       "26  2019/03/27 FUK/RJFF\\nAirAsia X\\nAirbus A330-34...              13   \n",
       "72  Our c-suite interview with #AirAsia Group CEO ...               3   \n",
       "5   AirAsia X considers routes to Europe, US mainl...               1   \n",
       "38  AirAsia Group eyes disruption in Southeast Asi...               0   \n",
       "46  AirAsia Group eyes disruption in Southeast Asi...               0   \n",
       "51  AirAsia Group eyes disruption in Southeast Asi...               0   \n",
       "94  Come on ⁦@AirAsia⁩. Pay up\\n\\nAirAsia Group ow...               0   \n",
       "59  .@AirAsia Group CEO @tonyfernandes on spectacu...               6   \n",
       "13  Highlight: AirAsia X blames ex-local partner o...               4   \n",
       "14  AirAsia X blames ex-local partner on late paym...               0   \n",
       "\n",
       "    SentimentPolarity  \n",
       "9            0.166667  \n",
       "24           0.125000  \n",
       "3            0.122222  \n",
       "26           0.000000  \n",
       "72           0.000000  \n",
       "5            0.000000  \n",
       "38           0.000000  \n",
       "46           0.000000  \n",
       "51           0.000000  \n",
       "94           0.000000  \n",
       "59          -0.050000  \n",
       "13          -0.300000  \n",
       "14          -0.375000  "
      ]
     },
     "execution_count": 62,
     "metadata": {},
     "output_type": "execute_result"
    }
   ],
   "source": [
    "# sort by polarity\n",
    "tweets.sort_values('SentimentPolarity', ascending=False)"
   ]
  },
  {
   "cell_type": "code",
   "execution_count": 63,
   "metadata": {},
   "outputs": [
    {
     "data": {
      "text/plain": [
       "\"Wednesday's #aviation #news including AirAsia X, Airbus finalizing details on potential #A321neoLR order , trivia &amp; more from the netAirspace Daily : https://t.co/bKSFJLmNhD\""
      ]
     },
     "execution_count": 63,
     "metadata": {},
     "output_type": "execute_result"
    }
   ],
   "source": [
    "# the most positive tweet\n",
    "tweets.tweet_text[9]"
   ]
  },
  {
   "cell_type": "code",
   "execution_count": 64,
   "metadata": {},
   "outputs": [
    {
     "data": {
      "text/plain": [
       "\"AirAsia X blames ex-local partner on late payments to Nepal's airport\\n\\n👇👇Clcik the link for details:\\nhttps://t.co/iRIMn0GSjR\\n\\nFollow us for property updates!\\n#kltu #malaysia #property #kl\""
      ]
     },
     "execution_count": 64,
     "metadata": {},
     "output_type": "execute_result"
    }
   ],
   "source": [
    "# the most negative tweet\n",
    "tweets.tweet_text[14]"
   ]
  },
  {
   "cell_type": "code",
   "execution_count": null,
   "metadata": {},
   "outputs": [],
   "source": []
  }
 ],
 "metadata": {
  "kernelspec": {
   "display_name": "Python 3",
   "language": "python",
   "name": "python3"
  },
  "language_info": {
   "codemirror_mode": {
    "name": "ipython",
    "version": 3
   },
   "file_extension": ".py",
   "mimetype": "text/x-python",
   "name": "python",
   "nbconvert_exporter": "python",
   "pygments_lexer": "ipython3",
   "version": "3.7.2"
  }
 },
 "nbformat": 4,
 "nbformat_minor": 2
}
