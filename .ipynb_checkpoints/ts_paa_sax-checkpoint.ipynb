{
 "cells": [
  {
   "cell_type": "code",
   "execution_count": 1,
   "metadata": {},
   "outputs": [],
   "source": [
    "import pandas as pd\n",
    "import numpy as np\n",
    "import matplotlib.pyplot as plt"
   ]
  },
  {
   "cell_type": "code",
   "execution_count": 2,
   "metadata": {},
   "outputs": [],
   "source": [
    "df = pd.read_csv('the_star_data.csv')\n",
    "df.drop('ID', axis=1, inplace=True)"
   ]
  },
  {
   "cell_type": "code",
   "execution_count": 3,
   "metadata": {},
   "outputs": [],
   "source": [
    "with open(\"company_names.txt\", \"r\") as f:\n",
    "    company_names = f.read()\n",
    "    company_names = company_names.splitlines() "
   ]
  },
  {
   "cell_type": "code",
   "execution_count": 4,
   "metadata": {},
   "outputs": [],
   "source": [
    "df['Datetime'] = df.Datetime.str.replace(r' - (\\d):', r' - 0\\1:')\n",
    "df['Datetime'] = pd.to_datetime(df['Datetime'], format='%d %b %Y - %I:%M %p')"
   ]
  },
  {
   "cell_type": "code",
   "execution_count": 5,
   "metadata": {},
   "outputs": [],
   "source": [
    "df = df.set_index('Datetime')"
   ]
  },
  {
   "cell_type": "code",
   "execution_count": 6,
   "metadata": {},
   "outputs": [],
   "source": [
    "company_ts = []\n",
    "for company_name in company_names:\n",
    "    company_ts.append(df[df.CompanySymbol == company_name])"
   ]
  },
  {
   "cell_type": "code",
   "execution_count": 7,
   "metadata": {},
   "outputs": [
    {
     "data": {
      "text/plain": [
       "<matplotlib.axes._subplots.AxesSubplot at 0x10fe45c50>"
      ]
     },
     "execution_count": 7,
     "metadata": {},
     "output_type": "execute_result"
    },
    {
     "data": {
      "image/png": "[encoded data removed]",
      "text/plain": [
       "<Figure size 432x288 with 1 Axes>"
      ]
     },
     "metadata": {
      "needs_background": "light"
     },
     "output_type": "display_data"
    }
   ],
   "source": [
    "company_ts[4]\n",
    "company_ts[0].plot()"
   ]
  },
  {
   "cell_type": "code",
   "execution_count": 8,
   "metadata": {},
   "outputs": [
    {
     "data": {
      "text/html": [
       "<div>\n",
       "<style scoped>\n",
       "    .dataframe tbody tr th:only-of-type {\n",
       "        vertical-align: middle;\n",
       "    }\n",
       "\n",
       "    .dataframe tbody tr th {\n",
       "        vertical-align: top;\n",
       "    }\n",
       "\n",
       "    .dataframe thead th {\n",
       "        text-align: right;\n",
       "    }\n",
       "</style>\n",
       "<table border=\"1\" class=\"dataframe\">\n",
       "  <thead>\n",
       "    <tr style=\"text-align: right;\">\n",
       "      <th></th>\n",
       "      <th>CompanySymbol</th>\n",
       "      <th>OpenPrice</th>\n",
       "      <th>HighPrice</th>\n",
       "      <th>LowPrice</th>\n",
       "      <th>LastPrice</th>\n",
       "    </tr>\n",
       "    <tr>\n",
       "      <th>Datetime</th>\n",
       "      <th></th>\n",
       "      <th></th>\n",
       "      <th></th>\n",
       "      <th></th>\n",
       "      <th></th>\n",
       "    </tr>\n",
       "  </thead>\n",
       "  <tbody>\n",
       "    <tr>\n",
       "      <th>2019-03-05 19:11:00</th>\n",
       "      <td>3A</td>\n",
       "      <td>0.0</td>\n",
       "      <td>0.0</td>\n",
       "      <td>0.0</td>\n",
       "      <td>0.855</td>\n",
       "    </tr>\n",
       "    <tr>\n",
       "      <th>2019-03-05 19:11:00</th>\n",
       "      <td>3A</td>\n",
       "      <td>0.0</td>\n",
       "      <td>0.0</td>\n",
       "      <td>0.0</td>\n",
       "      <td>0.855</td>\n",
       "    </tr>\n",
       "    <tr>\n",
       "      <th>2019-03-05 16:51:00</th>\n",
       "      <td>3A</td>\n",
       "      <td>0.0</td>\n",
       "      <td>0.0</td>\n",
       "      <td>0.0</td>\n",
       "      <td>0.855</td>\n",
       "    </tr>\n",
       "    <tr>\n",
       "      <th>2019-03-05 12:51:00</th>\n",
       "      <td>3A</td>\n",
       "      <td>0.0</td>\n",
       "      <td>0.0</td>\n",
       "      <td>0.0</td>\n",
       "      <td>0.855</td>\n",
       "    </tr>\n",
       "    <tr>\n",
       "      <th>2019-03-05 19:11:00</th>\n",
       "      <td>3A</td>\n",
       "      <td>0.0</td>\n",
       "      <td>0.0</td>\n",
       "      <td>0.0</td>\n",
       "      <td>0.855</td>\n",
       "    </tr>\n",
       "    <tr>\n",
       "      <th>2019-03-05 19:11:00</th>\n",
       "      <td>3A</td>\n",
       "      <td>0.0</td>\n",
       "      <td>0.0</td>\n",
       "      <td>0.0</td>\n",
       "      <td>0.855</td>\n",
       "    </tr>\n",
       "  </tbody>\n",
       "</table>\n",
       "</div>"
      ],
      "text/plain": [
       "                    CompanySymbol  OpenPrice  HighPrice  LowPrice  LastPrice\n",
       "Datetime                                                                    \n",
       "2019-03-05 19:11:00            3A        0.0        0.0       0.0      0.855\n",
       "2019-03-05 19:11:00            3A        0.0        0.0       0.0      0.855\n",
       "2019-03-05 16:51:00            3A        0.0        0.0       0.0      0.855\n",
       "2019-03-05 12:51:00            3A        0.0        0.0       0.0      0.855\n",
       "2019-03-05 19:11:00            3A        0.0        0.0       0.0      0.855\n",
       "2019-03-05 19:11:00            3A        0.0        0.0       0.0      0.855"
      ]
     },
     "execution_count": 8,
     "metadata": {},
     "output_type": "execute_result"
    }
   ],
   "source": [
    "company_ts[0].loc['2019-03-05']"
   ]
  },
  {
   "cell_type": "markdown",
   "metadata": {},
   "source": [
    "# PAA & SAX"
   ]
  },
  {
   "cell_type": "code",
   "execution_count": 9,
   "metadata": {},
   "outputs": [],
   "source": [
    "from tslearn.preprocessing import TimeSeriesScalerMeanVariance\n",
    "from tslearn.piecewise import PiecewiseAggregateApproximation\n",
    "from tslearn.piecewise import SymbolicAggregateApproximation, OneD_SymbolicAggregateApproximation"
   ]
  },
  {
   "cell_type": "code",
   "execution_count": 10,
   "metadata": {},
   "outputs": [
    {
     "data": {
      "text/plain": [
       "Text(0.5, 1.0, 'Raw time series')"
      ]
     },
     "execution_count": 10,
     "metadata": {},
     "output_type": "execute_result"
    },
    {
     "data": {
      "image/png": "[encoded data removed]",
      "text/plain": [
       "<Figure size 432x288 with 1 Axes>"
      ]
     },
     "metadata": {
      "needs_background": "light"
     },
     "output_type": "display_data"
    }
   ],
   "source": [
    "# TS (normalize the company's ts with mean of 0 and std of 1)\n",
    "scaler = TimeSeriesScalerMeanVariance(mu=0., std=1.)  # Rescale time series\n",
    "dataset = scaler.fit_transform(company_ts[0].OpenPrice)\n",
    "\n",
    "plt.figure()\n",
    "plt.subplot(2, 2, 1)  # First, raw time series\n",
    "plt.plot(dataset[0].ravel(), \"b-\")\n",
    "plt.title(\"Raw time series\")"
   ]
  },
  {
   "cell_type": "code",
   "execution_count": 11,
   "metadata": {},
   "outputs": [
    {
     "data": {
      "text/plain": [
       "Text(0.5, 1.0, 'PAA')"
      ]
     },
     "execution_count": 11,
     "metadata": {},
     "output_type": "execute_result"
    },
    {
     "data": {
      "image/png": "[encoded data removed]",
      "text/plain": [
       "<Figure size 432x288 with 1 Axes>"
      ]
     },
     "metadata": {
      "needs_background": "light"
     },
     "output_type": "display_data"
    }
   ],
   "source": [
    "# PAA transform (and inverse transform) of the data\n",
    "n_paa_segments = 10\n",
    "paa = PiecewiseAggregateApproximation(n_segments=n_paa_segments)\n",
    "paa_dataset_inv = paa.inverse_transform(paa.fit_transform(dataset))\n",
    "\n",
    "\n",
    "plt.subplot(2, 2, 2)  # Second, PAA\n",
    "plt.plot(paa_dataset_inv.ravel(), \"b-\", alpha=0.4)\n",
    "plt.plot(paa_dataset_inv.ravel(), \"b-\")\n",
    "plt.title(\"PAA\")"
   ]
  },
  {
   "cell_type": "code",
   "execution_count": 12,
   "metadata": {},
   "outputs": [
    {
     "data": {
      "text/plain": [
       "Text(0.5, 1.0, 'SAX, 8 symbols')"
      ]
     },
     "execution_count": 12,
     "metadata": {},
     "output_type": "execute_result"
    },
    {
     "data": {
      "image/png": "[encoded data removed]",
      "text/plain": [
       "<Figure size 432x288 with 1 Axes>"
      ]
     },
     "metadata": {
      "needs_background": "light"
     },
     "output_type": "display_data"
    }
   ],
   "source": [
    "# SAX transform\n",
    "n_sax_symbols = 8\n",
    "sax = SymbolicAggregateApproximation(n_segments=n_paa_segments, alphabet_size_avg=n_sax_symbols)\n",
    "sax_dataset_inv = sax.inverse_transform(sax.fit_transform(dataset))\n",
    "\n",
    "\n",
    "plt.subplot(2, 2, 3)  # Then SAX\n",
    "plt.plot(dataset[0].ravel(), \"b-\", alpha=0.4)\n",
    "plt.plot(sax_dataset_inv[0].ravel(), \"b-\")\n",
    "plt.title(\"SAX, %d symbols\" % n_sax_symbols)"
   ]
  },
  {
   "cell_type": "code",
   "execution_count": 13,
   "metadata": {},
   "outputs": [
    {
     "data": {
      "text/plain": [
       "Text(0.5, 1.0, '1d-SAX, 64 symbols (8x8)')"
      ]
     },
     "execution_count": 13,
     "metadata": {},
     "output_type": "execute_result"
    },
    {
     "data": {
      "image/png": "[encoded data removed]",
      "text/plain": [
       "<Figure size 432x288 with 1 Axes>"
      ]
     },
     "metadata": {
      "needs_background": "light"
     },
     "output_type": "display_data"
    }
   ],
   "source": [
    "# 1d-SAX transform\n",
    "n_sax_symbols_avg = 8\n",
    "n_sax_symbols_slope = 8\n",
    "one_d_sax = OneD_SymbolicAggregateApproximation(n_segments=n_paa_segments, alphabet_size_avg=n_sax_symbols_avg,\n",
    "                                                alphabet_size_slope=n_sax_symbols_slope)\n",
    "one_d_sax_dataset_inv = one_d_sax.inverse_transform(one_d_sax.fit_transform(dataset))\n",
    "\n",
    "plt.subplot(2, 2, 4)  # Finally, 1d-SAX\n",
    "plt.plot(dataset[0].ravel(), \"b-\", alpha=0.4)\n",
    "plt.plot(one_d_sax_dataset_inv[0].ravel(), \"b-\")\n",
    "plt.title(\"1d-SAX, %d symbols (%dx%d)\" % (n_sax_symbols_avg * n_sax_symbols_slope,\n",
    "                                          n_sax_symbols_avg,\n",
    "                                          n_sax_symbols_slope))\n"
   ]
  },
  {
   "cell_type": "code",
   "execution_count": null,
   "metadata": {},
   "outputs": [],
   "source": []
  }
 ],
 "metadata": {
  "kernelspec": {
   "display_name": "Python 3",
   "language": "python",
   "name": "python3"
  },
  "language_info": {
   "codemirror_mode": {
    "name": "ipython",
    "version": 3
   },
   "file_extension": ".py",
   "mimetype": "text/x-python",
   "name": "python",
   "nbconvert_exporter": "python",
   "pygments_lexer": "ipython3",
   "version": "3.7.2"
  }
 },
 "nbformat": 4,
 "nbformat_minor": 2
}
