{
 "cells": [
  {
   "cell_type": "code",
   "execution_count": 1,
   "metadata": {},
   "outputs": [],
   "source": [
    "import pandas as pd\n",
    "import numpy as np"
   ]
  },
  {
   "cell_type": "code",
   "execution_count": 2,
   "metadata": {},
   "outputs": [],
   "source": [
    "df = pd.read_csv('./data.csv')"
   ]
  },
  {
   "cell_type": "code",
   "execution_count": 3,
   "metadata": {},
   "outputs": [],
   "source": [
    "df.drop('ID', axis=1, inplace=True)"
   ]
  },
  {
   "cell_type": "code",
   "execution_count": 4,
   "metadata": {},
   "outputs": [],
   "source": [
    "df['Datetime'] = df['Datetime'].str.split('-',expand=True)[0]"
   ]
  },
  {
   "cell_type": "code",
   "execution_count": 13,
   "metadata": {},
   "outputs": [
    {
     "data": {
      "text/html": [
       "<div>\n",
       "<style scoped>\n",
       "    .dataframe tbody tr th:only-of-type {\n",
       "        vertical-align: middle;\n",
       "    }\n",
       "\n",
       "    .dataframe tbody tr th {\n",
       "        vertical-align: top;\n",
       "    }\n",
       "\n",
       "    .dataframe thead th {\n",
       "        text-align: right;\n",
       "    }\n",
       "</style>\n",
       "<table border=\"1\" class=\"dataframe\">\n",
       "  <thead>\n",
       "    <tr style=\"text-align: right;\">\n",
       "      <th></th>\n",
       "      <th>Datetime</th>\n",
       "      <th>CompanySymbol</th>\n",
       "      <th>OpenPrice</th>\n",
       "      <th>HighPrice</th>\n",
       "      <th>LowPrice</th>\n",
       "      <th>LastPrice</th>\n",
       "      <th>NumberOfNews</th>\n",
       "      <th>NumberOfTweets</th>\n",
       "      <th>AverageSentimentScoreNews</th>\n",
       "      <th>AverageSentimentScoreTweets</th>\n",
       "      <th>Lable</th>\n",
       "    </tr>\n",
       "  </thead>\n",
       "  <tbody>\n",
       "    <tr>\n",
       "      <th>0</th>\n",
       "      <td>13 Mar 2019</td>\n",
       "      <td>3A</td>\n",
       "      <td>0.850</td>\n",
       "      <td>0.855</td>\n",
       "      <td>0.845</td>\n",
       "      <td>0.850</td>\n",
       "      <td>6</td>\n",
       "      <td>17</td>\n",
       "      <td>0.358816</td>\n",
       "      <td>0.622706</td>\n",
       "      <td>1</td>\n",
       "    </tr>\n",
       "    <tr>\n",
       "      <th>1</th>\n",
       "      <td>13 Mar 2019</td>\n",
       "      <td>A50CHIN-C22</td>\n",
       "      <td>0.140</td>\n",
       "      <td>0.145</td>\n",
       "      <td>0.120</td>\n",
       "      <td>0.135</td>\n",
       "      <td>17</td>\n",
       "      <td>31</td>\n",
       "      <td>0.173940</td>\n",
       "      <td>0.497162</td>\n",
       "      <td>0</td>\n",
       "    </tr>\n",
       "    <tr>\n",
       "      <th>2</th>\n",
       "      <td>13 Mar 2019</td>\n",
       "      <td>A50CHIN-C24</td>\n",
       "      <td>0.670</td>\n",
       "      <td>0.670</td>\n",
       "      <td>0.670</td>\n",
       "      <td>0.670</td>\n",
       "      <td>17</td>\n",
       "      <td>17</td>\n",
       "      <td>0.383985</td>\n",
       "      <td>0.739875</td>\n",
       "      <td>0</td>\n",
       "    </tr>\n",
       "    <tr>\n",
       "      <th>3</th>\n",
       "      <td>13 Mar 2019</td>\n",
       "      <td>A50CHIN-C26</td>\n",
       "      <td>0.000</td>\n",
       "      <td>0.000</td>\n",
       "      <td>0.000</td>\n",
       "      <td>0.430</td>\n",
       "      <td>7</td>\n",
       "      <td>34</td>\n",
       "      <td>0.695799</td>\n",
       "      <td>0.121841</td>\n",
       "      <td>0</td>\n",
       "    </tr>\n",
       "    <tr>\n",
       "      <th>4</th>\n",
       "      <td>13 Mar 2019</td>\n",
       "      <td>A50CHIN-C28</td>\n",
       "      <td>0.225</td>\n",
       "      <td>0.225</td>\n",
       "      <td>0.210</td>\n",
       "      <td>0.220</td>\n",
       "      <td>6</td>\n",
       "      <td>16</td>\n",
       "      <td>0.835790</td>\n",
       "      <td>0.462175</td>\n",
       "      <td>1</td>\n",
       "    </tr>\n",
       "  </tbody>\n",
       "</table>\n",
       "</div>"
      ],
      "text/plain": [
       "       Datetime CompanySymbol  OpenPrice  HighPrice  LowPrice  LastPrice  \\\n",
       "0  13 Mar 2019             3A      0.850      0.855     0.845      0.850   \n",
       "1  13 Mar 2019    A50CHIN-C22      0.140      0.145     0.120      0.135   \n",
       "2  13 Mar 2019    A50CHIN-C24      0.670      0.670     0.670      0.670   \n",
       "3  13 Mar 2019    A50CHIN-C26      0.000      0.000     0.000      0.430   \n",
       "4  13 Mar 2019    A50CHIN-C28      0.225      0.225     0.210      0.220   \n",
       "\n",
       "   NumberOfNews  NumberOfTweets  AverageSentimentScoreNews  \\\n",
       "0             6              17                   0.358816   \n",
       "1            17              31                   0.173940   \n",
       "2            17              17                   0.383985   \n",
       "3             7              34                   0.695799   \n",
       "4             6              16                   0.835790   \n",
       "\n",
       "   AverageSentimentScoreTweets  Lable  \n",
       "0                     0.622706      1  \n",
       "1                     0.497162      0  \n",
       "2                     0.739875      0  \n",
       "3                     0.121841      0  \n",
       "4                     0.462175      1  "
      ]
     },
     "execution_count": 13,
     "metadata": {},
     "output_type": "execute_result"
    }
   ],
   "source": [
    "df.head()"
   ]
  },
  {
   "cell_type": "code",
   "execution_count": 6,
   "metadata": {},
   "outputs": [
    {
     "data": {
      "text/plain": [
       "Datetime         0\n",
       "CompanySymbol    0\n",
       "OpenPrice        0\n",
       "HighPrice        0\n",
       "LowPrice         0\n",
       "LastPrice        0\n",
       "dtype: int64"
      ]
     },
     "execution_count": 6,
     "metadata": {},
     "output_type": "execute_result"
    }
   ],
   "source": [
    "df.isna().sum()"
   ]
  },
  {
   "cell_type": "code",
   "execution_count": 7,
   "metadata": {},
   "outputs": [
    {
     "name": "stdout",
     "output_type": "stream",
     "text": [
      "<class 'pandas.core.frame.DataFrame'>\n",
      "RangeIndex: 350406 entries, 0 to 350405\n",
      "Data columns (total 6 columns):\n",
      "Datetime         350406 non-null object\n",
      "CompanySymbol    350406 non-null object\n",
      "OpenPrice        350406 non-null float64\n",
      "HighPrice        350406 non-null float64\n",
      "LowPrice         350406 non-null float64\n",
      "LastPrice        350406 non-null float64\n",
      "dtypes: float64(4), object(2)\n",
      "memory usage: 16.0+ MB\n"
     ]
    }
   ],
   "source": [
    "df.info()"
   ]
  },
  {
   "cell_type": "code",
   "execution_count": 8,
   "metadata": {},
   "outputs": [],
   "source": [
    "df['NumberOfNews'] = np.random.randint(6,18, df.shape[0])"
   ]
  },
  {
   "cell_type": "code",
   "execution_count": 9,
   "metadata": {},
   "outputs": [],
   "source": [
    "df['NumberOfTweets'] = np.random.randint(16,39, df.shape[0])"
   ]
  },
  {
   "cell_type": "code",
   "execution_count": 10,
   "metadata": {},
   "outputs": [],
   "source": [
    "df['AverageSentimentScoreNews'] = np.random.uniform(0, 1, df.shape[0])"
   ]
  },
  {
   "cell_type": "code",
   "execution_count": 11,
   "metadata": {},
   "outputs": [],
   "source": [
    "df['AverageSentimentScoreTweets'] = np.random.uniform(0, 1, df.shape[0])"
   ]
  },
  {
   "cell_type": "code",
   "execution_count": 12,
   "metadata": {},
   "outputs": [],
   "source": [
    "df['Lable'] = np.random.randint(0,2, df.shape[0])"
   ]
  },
  {
   "cell_type": "code",
   "execution_count": 16,
   "metadata": {},
   "outputs": [],
   "source": [
    "df.to_csv('the_data.csv')"
   ]
  },
  {
   "cell_type": "code",
   "execution_count": null,
   "metadata": {},
   "outputs": [],
   "source": []
  }
 ],
 "metadata": {
  "kernelspec": {
   "display_name": "Python 3",
   "language": "python",
   "name": "python3"
  },
  "language_info": {
   "codemirror_mode": {
    "name": "ipython",
    "version": 3
   },
   "file_extension": ".py",
   "mimetype": "text/x-python",
   "name": "python",
   "nbconvert_exporter": "python",
   "pygments_lexer": "ipython3",
   "version": "3.7.2"
  }
 },
 "nbformat": 4,
 "nbformat_minor": 2
}
